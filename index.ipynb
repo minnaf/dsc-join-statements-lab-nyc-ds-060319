{
 "cells": [
  {
   "cell_type": "markdown",
   "metadata": {},
   "source": [
    "# Join Statements - Lab\n",
    "\n",
    "## Introduction\n",
    "\n",
    "In this lab, you'll practice your knowledge of join statements, using various types of joins and various methods for specifying the links between them.\n",
    "\n",
    "## Objectives\n",
    "\n",
    "You will be able to:\n",
    "- Write queries that make use of various types of Joins\n",
    "- Join tables using foreign keys"
   ]
  },
  {
   "cell_type": "markdown",
   "metadata": {},
   "source": [
    "## CRM Schema\n",
    "\n",
    "In almost all cases, rather then just working with a single table you will typically need data from multiple tables. \n",
    "Doing this requires the use of **joins ** using shared columns from the two tables. \n",
    "\n",
    "In this lab, you'll use the same Customer Relationship Management (CRM) database that you saw from the previous lesson.\n",
    "<img src='images/Database-Schema.png' width=\"600\">"
   ]
  },
  {
   "cell_type": "markdown",
   "metadata": {},
   "source": [
    "## Connecting to the Database\n",
    "Import the necessary packages and connect to the database **data.sqlite**."
   ]
  },
  {
   "cell_type": "code",
   "execution_count": 41,
   "metadata": {},
   "outputs": [],
   "source": [
    "#Your code here\n",
    "import pandas as pd\n",
    "import sqlite3 \n",
    "\n",
    "conn = sqlite3.connect('data.sqlite', detect_types=sqlite3.PARSE_COLNAMES)\n",
    "cur = conn.cursor()\n",
    "\n",
    "cur.execute('SELECT * FROM employees')\n",
    "\n",
    "employees = [description[0] for description in cur.description]"
   ]
  },
  {
   "cell_type": "code",
   "execution_count": 40,
   "metadata": {},
   "outputs": [
    {
     "data": {
      "text/plain": [
       "[('orderdetails',),\n",
       " ('payments',),\n",
       " ('offices',),\n",
       " ('customers',),\n",
       " ('orders',),\n",
       " ('productlines',),\n",
       " ('products',),\n",
       " ('employees',)]"
      ]
     },
     "execution_count": 40,
     "metadata": {},
     "output_type": "execute_result"
    }
   ],
   "source": [
    "cur.execute(\"SELECT name FROM sqlite_master WHERE type='table';\")\n",
    "cur.fetchall()"
   ]
  },
  {
   "cell_type": "code",
   "execution_count": 42,
   "metadata": {},
   "outputs": [
    {
     "data": {
      "text/plain": [
       "['employeeNumber',\n",
       " 'lastName',\n",
       " 'firstName',\n",
       " 'extension',\n",
       " 'email',\n",
       " 'officeCode',\n",
       " 'reportsTo',\n",
       " 'jobTitle']"
      ]
     },
     "execution_count": 42,
     "metadata": {},
     "output_type": "execute_result"
    }
   ],
   "source": [
    "employees\n",
    "#offices"
   ]
  },
  {
   "cell_type": "code",
   "execution_count": 57,
   "metadata": {},
   "outputs": [
    {
     "data": {
      "text/plain": [
       "[('1', 'San Francisco'),\n",
       " ('2', 'Boston'),\n",
       " ('3', 'NYC'),\n",
       " ('4', 'Paris'),\n",
       " ('5', 'Tokyo'),\n",
       " ('6', 'Sydney'),\n",
       " ('7', 'London')]"
      ]
     },
     "execution_count": 57,
     "metadata": {},
     "output_type": "execute_result"
    }
   ],
   "source": [
    "cur.execute('SELECT officeCode, city FROM offices;').fetchall()\n",
    "\n",
    "#offices = [description[0] for description in cur.description]\n",
    "#officeCode = [description[0] for description in cur.description]"
   ]
  },
  {
   "cell_type": "code",
   "execution_count": 48,
   "metadata": {
    "scrolled": true
   },
   "outputs": [
    {
     "data": {
      "text/plain": [
       "['officeCode',\n",
       " 'city',\n",
       " 'phone',\n",
       " 'addressLine1',\n",
       " 'addressLine2',\n",
       " 'state',\n",
       " 'country',\n",
       " 'postalCode',\n",
       " 'territory']"
      ]
     },
     "execution_count": 48,
     "metadata": {},
     "output_type": "execute_result"
    }
   ],
   "source": [
    "offices"
   ]
  },
  {
   "cell_type": "code",
   "execution_count": 86,
   "metadata": {},
   "outputs": [],
   "source": [
    "cur.execute('''SELECT * FROM customers;''')\n",
    "customers = [description[0] for description in cur.description]"
   ]
  },
  {
   "cell_type": "code",
   "execution_count": 87,
   "metadata": {},
   "outputs": [
    {
     "data": {
      "text/plain": [
       "['customerNumber',\n",
       " 'customerName',\n",
       " 'contactLastName',\n",
       " 'contactFirstName',\n",
       " 'phone',\n",
       " 'addressLine1',\n",
       " 'addressLine2',\n",
       " 'city',\n",
       " 'state',\n",
       " 'postalCode',\n",
       " 'country',\n",
       " 'salesRepEmployeeNumber',\n",
       " 'creditLimit']"
      ]
     },
     "execution_count": 87,
     "metadata": {},
     "output_type": "execute_result"
    }
   ],
   "source": [
    "customers"
   ]
  },
  {
   "cell_type": "markdown",
   "metadata": {},
   "source": [
    "## Display the names of all the employees in Boston.\n",
    "Hint: join the employees and offices tables."
   ]
  },
  {
   "cell_type": "code",
   "execution_count": 59,
   "metadata": {},
   "outputs": [
    {
     "data": {
      "text/plain": [
       "[('1188', 'Firrelli', 'Julie'), ('1216', 'Patterson', 'Steve')]"
      ]
     },
     "execution_count": 59,
     "metadata": {},
     "output_type": "execute_result"
    }
   ],
   "source": [
    "#Your code here\n",
    "cur.execute('''SELECT employeeNumber, lastName, firstName FROM employees JOIN \n",
    "    offices USING(officeCode) WHERE officeCode == '2' ''').fetchall()\n"
   ]
  },
  {
   "cell_type": "markdown",
   "metadata": {},
   "source": [
    "## Do any offices have no employees?\n",
    "Hint: Combine the employees and offices tables and use a group by."
   ]
  },
  {
   "cell_type": "code",
   "execution_count": 66,
   "metadata": {},
   "outputs": [
    {
     "data": {
      "text/plain": [
       "[('Boston', 2),\n",
       " ('London', 2),\n",
       " ('NYC', 2),\n",
       " ('Paris', 5),\n",
       " ('San Francisco', 6),\n",
       " ('Sydney', 4),\n",
       " ('Tokyo', 2)]"
      ]
     },
     "execution_count": 66,
     "metadata": {},
     "output_type": "execute_result"
    }
   ],
   "source": [
    "#Your code here\n",
    "cur.execute(\"\"\"SELECT city, COUNT(*) FROM employees \n",
    "LEFT JOIN offices USING(officeCode) GROUP BY 1\"\"\").fetchall()\n",
    "\n"
   ]
  },
  {
   "cell_type": "markdown",
   "metadata": {},
   "source": [
    "## Write 3 Questions of your own and answer them"
   ]
  },
  {
   "cell_type": "code",
   "execution_count": null,
   "metadata": {},
   "outputs": [],
   "source": [
    "# Answers will vary"
   ]
  },
  {
   "cell_type": "code",
   "execution_count": null,
   "metadata": {},
   "outputs": [],
   "source": [
    "# Your code here"
   ]
  },
  {
   "cell_type": "code",
   "execution_count": null,
   "metadata": {},
   "outputs": [],
   "source": [
    "# Your code here"
   ]
  },
  {
   "cell_type": "code",
   "execution_count": null,
   "metadata": {},
   "outputs": [],
   "source": [
    "# Your code here"
   ]
  },
  {
   "cell_type": "markdown",
   "metadata": {},
   "source": [
    "## Level Up: Display the names of each product each employee has sold"
   ]
  },
  {
   "cell_type": "code",
   "execution_count": 88,
   "metadata": {},
   "outputs": [
    {
     "name": "stdout",
     "output_type": "stream",
     "text": [
      "2996\n"
     ]
    },
    {
     "data": {
      "text/html": [
       "<div>\n",
       "<style scoped>\n",
       "    .dataframe tbody tr th:only-of-type {\n",
       "        vertical-align: middle;\n",
       "    }\n",
       "\n",
       "    .dataframe tbody tr th {\n",
       "        vertical-align: top;\n",
       "    }\n",
       "\n",
       "    .dataframe thead th {\n",
       "        text-align: right;\n",
       "    }\n",
       "</style>\n",
       "<table border=\"1\" class=\"dataframe\">\n",
       "  <thead>\n",
       "    <tr style=\"text-align: right;\">\n",
       "      <th></th>\n",
       "      <th>0</th>\n",
       "      <th>1</th>\n",
       "      <th>2</th>\n",
       "    </tr>\n",
       "  </thead>\n",
       "  <tbody>\n",
       "    <tr>\n",
       "      <th>0</th>\n",
       "      <td>Leslie</td>\n",
       "      <td>Jennings</td>\n",
       "      <td>1958 Setra Bus</td>\n",
       "    </tr>\n",
       "    <tr>\n",
       "      <th>1</th>\n",
       "      <td>Leslie</td>\n",
       "      <td>Jennings</td>\n",
       "      <td>1940 Ford Pickup Truck</td>\n",
       "    </tr>\n",
       "    <tr>\n",
       "      <th>2</th>\n",
       "      <td>Leslie</td>\n",
       "      <td>Jennings</td>\n",
       "      <td>1939 Cadillac Limousine</td>\n",
       "    </tr>\n",
       "    <tr>\n",
       "      <th>3</th>\n",
       "      <td>Leslie</td>\n",
       "      <td>Jennings</td>\n",
       "      <td>1996 Peterbilt 379 Stake Bed with Outrigger</td>\n",
       "    </tr>\n",
       "    <tr>\n",
       "      <th>4</th>\n",
       "      <td>Leslie</td>\n",
       "      <td>Jennings</td>\n",
       "      <td>1968 Ford Mustang</td>\n",
       "    </tr>\n",
       "  </tbody>\n",
       "</table>\n",
       "</div>"
      ],
      "text/plain": [
       "        0         1                                            2\n",
       "0  Leslie  Jennings                               1958 Setra Bus\n",
       "1  Leslie  Jennings                       1940 Ford Pickup Truck\n",
       "2  Leslie  Jennings                      1939 Cadillac Limousine\n",
       "3  Leslie  Jennings  1996 Peterbilt 379 Stake Bed with Outrigger\n",
       "4  Leslie  Jennings                            1968 Ford Mustang"
      ]
     },
     "execution_count": 88,
     "metadata": {},
     "output_type": "execute_result"
    }
   ],
   "source": [
    "# Your code here\n",
    "cur.execute(\"\"\"select firstName, lastName,\n",
    "                      productName\n",
    "                      from employees e\n",
    "                      join\n",
    "                      customers c\n",
    "                      on e.employeeNumber = c.salesRepEmployeeNumber\n",
    "                      join orders o\n",
    "                      using(customerNumber)\n",
    "                      join orderdetails od\n",
    "                      using(orderNumber)\n",
    "                      join products p\n",
    "                      using(productCode)\"\"\")\n",
    "df = pd.DataFrame(cur.fetchall())\n",
    "print(len(df))\n",
    "df.head()\n",
    "\n"
   ]
  },
  {
   "cell_type": "markdown",
   "metadata": {},
   "source": [
    "## Level Up: Display the Number of Products each employee has sold"
   ]
  },
  {
   "cell_type": "code",
   "execution_count": null,
   "metadata": {},
   "outputs": [],
   "source": [
    "#Your code here"
   ]
  },
  {
   "cell_type": "markdown",
   "metadata": {},
   "source": [
    "## Summary"
   ]
  },
  {
   "cell_type": "markdown",
   "metadata": {},
   "source": [
    "Congrats! You now know how to use join statements, along with leveraging your foreign keys knowledge!"
   ]
  }
 ],
 "metadata": {
  "kernelspec": {
   "display_name": "Python 3",
   "language": "python",
   "name": "python3"
  },
  "language_info": {
   "codemirror_mode": {
    "name": "ipython",
    "version": 3
   },
   "file_extension": ".py",
   "mimetype": "text/x-python",
   "name": "python",
   "nbconvert_exporter": "python",
   "pygments_lexer": "ipython3",
   "version": "3.6.6"
  }
 },
 "nbformat": 4,
 "nbformat_minor": 2
}
